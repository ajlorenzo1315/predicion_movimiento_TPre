{
 "cells": [
  {
   "cell_type": "code",
   "execution_count": 1,
   "id": "41a6800e",
   "metadata": {},
   "outputs": [
    {
     "name": "stdout",
     "output_type": "stream",
     "text": [
      "\u001b[33mWARNING: You are using pip version 22.0.4; however, version 22.1.2 is available.\r\n",
      "You should consider upgrading via the '/home/ali/.virtualenvs/depth/bin/python -m pip install --upgrade pip' command.\u001b[0m\u001b[33m\r\n",
      "\u001b[0m"
     ]
    }
   ],
   "source": [
    "#!pip install -q git+https://github.com/huggingface/transformers.git"
   ]
  },
  {
   "cell_type": "code",
   "execution_count": 1,
   "id": "6a8c263c",
   "metadata": {},
   "outputs": [],
   "source": [
    "from transformers import GLPNFeatureExtractor, GLPNForDepthEstimation\n",
    "\n",
    "feature_extractor = GLPNFeatureExtractor.from_pretrained(\"vinvino02/glpn-kitti\")\n",
    "model = GLPNForDepthEstimation.from_pretrained(\"vinvino02/glpn-kitti\")"
   ]
  },
  {
   "cell_type": "code",
   "execution_count": 3,
   "id": "2513fe9a",
   "metadata": {},
   "outputs": [],
   "source": [
    "import os, sys, errno\n",
    "import time\n",
    "import glob\n",
    "import PIL.Image as pil\n",
    "from timer import Timer\n",
    "import cv2\n",
    "import numpy as np"
   ]
  },
  {
   "cell_type": "code",
   "execution_count": 4,
   "id": "e2b43235",
   "metadata": {},
   "outputs": [],
   "source": [
    "paths= sorted(glob.glob(os.path.join(\"./lp-left-sort\", '*.{}'.format(\"png\"))))\n",
    "paths_out=\"results/glpn-kitti\"\n",
    "os.makedirs(paths_out, exist_ok=True)"
   ]
  },
  {
   "cell_type": "code",
   "execution_count": null,
   "id": "ba45a569",
   "metadata": {},
   "outputs": [],
   "source": [
    "star=time.time()\n",
    "cont=0\n",
    "timer = Timer()\n",
    "for idx, image_path in enumerate(paths):# Use the detector to do inference\n",
    "    timer.tic()\n",
    "    img=cv2.imread(image_path)\n",
    "    output_name = os.path.splitext(os.path.basename(image_path))[0]\n",
    "    name_dest_npy = os.path.join(paths_out, \"{}.png\".format(output_name))\n",
    "    #img = pil.open(image_path).convert('RGB')\n",
    "    result=inference_detector(model, img)\n",
    "  \n",
    "    timer.toc()\n",
    "        \n",
    "    cv2.imwrite(name_dest_npy, online_im)\n",
    "    fin=time.time()\n",
    "    results.append(result)\n",
    "    #show_result_pyplot(model, image_path, result, score_thr=0.3)\n",
    "    #show_result_pyplot(model, image_path, result, score_thr=0)\n",
    "    print((idx+1)/(fin-star),\" foto \",idx,\" time \",fin-star,\"fps\", 1. / max(1e-5, timer.average_time))"
   ]
  }
 ],
 "metadata": {
  "kernelspec": {
   "display_name": "Python 3 (ipykernel)",
   "language": "python",
   "name": "python3"
  },
  "language_info": {
   "codemirror_mode": {
    "name": "ipython",
    "version": 3
   },
   "file_extension": ".py",
   "mimetype": "text/x-python",
   "name": "python",
   "nbconvert_exporter": "python",
   "pygments_lexer": "ipython3",
   "version": "3.8.10"
  }
 },
 "nbformat": 4,
 "nbformat_minor": 5
}
