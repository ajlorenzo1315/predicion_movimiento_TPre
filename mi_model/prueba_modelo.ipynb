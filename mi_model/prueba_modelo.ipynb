{
 "cells": [
  {
   "cell_type": "markdown",
   "id": "942192e7",
   "metadata": {},
   "source": [
    "### Cargamos el modelo"
   ]
  },
  {
   "cell_type": "code",
   "execution_count": null,
   "id": "378a9489",
   "metadata": {},
   "outputs": [
    {
     "name": "stderr",
     "output_type": "stream",
     "text": [
      "/home/ali/.virtualenvs/depth/lib/python3.8/site-packages/numpy/core/getlimits.py:499: UserWarning: The value of the smallest subnormal for <class 'numpy.float64'> type is zero.\n",
      "  setattr(self, word, getattr(machar, word).flat[0])\n",
      "/home/ali/.virtualenvs/depth/lib/python3.8/site-packages/numpy/core/getlimits.py:89: UserWarning: The value of the smallest subnormal for <class 'numpy.float64'> type is zero.\n",
      "  return self._float_to_str(self.smallest_subnormal)\n",
      "/home/ali/.virtualenvs/depth/lib/python3.8/site-packages/numpy/core/getlimits.py:499: UserWarning: The value of the smallest subnormal for <class 'numpy.float32'> type is zero.\n",
      "  setattr(self, word, getattr(machar, word).flat[0])\n",
      "/home/ali/.virtualenvs/depth/lib/python3.8/site-packages/numpy/core/getlimits.py:89: UserWarning: The value of the smallest subnormal for <class 'numpy.float32'> type is zero.\n",
      "  return self._float_to_str(self.smallest_subnormal)\n"
     ]
    }
   ],
   "source": [
    "from me_model import Me_model"
   ]
  },
  {
   "cell_type": "markdown",
   "id": "aa32b4b7",
   "metadata": {},
   "source": [
    "## Cargamos la clase de datos para el detector de coco y generemos las clases necesarias para el traspaso de variables"
   ]
  },
  {
   "cell_type": "code",
   "execution_count": null,
   "id": "9c468a3d",
   "metadata": {},
   "outputs": [],
   "source": [
    "from dataclasses import dataclass\n",
    "\n",
    "@dataclass\n",
    "class Arguments_tracker():\n",
    "    \n",
    "    track_thresh:float\n",
    "    track_buffer:int\n",
    "    match_thresh:float\n",
    "    aspect_ratio_thresh:float\n",
    "    min_box_area:int\n",
    "    mot20:bool\n",
    "    frame_rate:int\n",
    "        \n",
    "@dataclass\n",
    "class Arguments_depth():\n",
    "    \n",
    "     checkpoint:str\n",
    "        \n",
    "@dataclass\n",
    "class Arguments_detection():\n",
    "    \n",
    "    config:str\n",
    "    checkpoint:str\n",
    "\n",
    "        "
   ]
  },
  {
   "cell_type": "markdown",
   "id": "fb095d9c",
   "metadata": {},
   "source": [
    "### llamamos  a las variables de argumentos y le pasamos las valores de las variables"
   ]
  },
  {
   "cell_type": "code",
   "execution_count": null,
   "id": "dbdac200",
   "metadata": {},
   "outputs": [],
   "source": [
    "args_track = Arguments_tracker(0.20,30,0.5,1.6,10,False,30)\n",
    "\n",
    "config=\"configs/point_rend/point_rend_r50_caffe_fpn_mstrain_3x_coco.py\"\n",
    "checkpoint = 'checkpoints/point_rend_r50_caffe_fpn_mstrain_3x_coco-e0ebb6b7.pth'\n",
    "args_dect=Arguments_detection(config,checkpoint)\n",
    "\n",
    "checkpoint = 'best_model_kitti.ckpt'\n",
    "args_depth=Arguments_depth(checkpoint)"
   ]
  },
  {
   "cell_type": "markdown",
   "id": "1cf9b33d",
   "metadata": {},
   "source": [
    "### Llamamos  a nuestro modelo al que le pasamos que modelo carga "
   ]
  },
  {
   "cell_type": "code",
   "execution_count": null,
   "id": "cbc2d1a0",
   "metadata": {},
   "outputs": [
    {
     "name": "stdout",
     "output_type": "stream",
     "text": [
      "load checkpoint from local path: checkpoints/point_rend_r50_caffe_fpn_mstrain_3x_coco-e0ebb6b7.pth\n"
     ]
    }
   ],
   "source": [
    "me_modelo_p=Me_model(args_dect,args_depth,args_track,\"cpu\")"
   ]
  },
  {
   "cell_type": "markdown",
   "id": "eaa835ed",
   "metadata": {},
   "source": [
    "## ejecutamos la demo \n",
    "\n",
    "Le podemos pasar un path de salida para que nos almacene los resultados"
   ]
  },
  {
   "cell_type": "code",
   "execution_count": null,
   "id": "b615c2e2",
   "metadata": {},
   "outputs": [],
   "source": [
    "paths= \"./lp-left-sort\"\n",
    "\n",
    "results=[]\n",
    "paths_out=\"results/prueba_modelo_fichero/point_rend_r50_caffe_fpn_mstrain_3x_coco\"\n"
   ]
  },
  {
   "cell_type": "code",
   "execution_count": null,
   "id": "31857533",
   "metadata": {
    "scrolled": false
   },
   "outputs": [
    {
     "name": "stderr",
     "output_type": "stream",
     "text": [
      "/home/ali/.virtualenvs/depth/lib/python3.8/site-packages/torch/_tensor.py:575: UserWarning: floor_divide is deprecated, and will be removed in a future version of pytorch. It currently rounds toward 0 (like the 'trunc' function NOT 'floor'). This results in incorrect rounding for negative values.\n",
      "To keep the current behavior, use torch.div(a, b, rounding_mode='trunc'), or for actual floor division, use torch.div(a, b, rounding_mode='floor'). (Triggered internally at  /pytorch/aten/src/ATen/native/BinaryOps.cpp:467.)\n",
      "  return torch.floor_divide(self, other)\n"
     ]
    },
    {
     "name": "stdout",
     "output_type": "stream",
     "text": [
      " foto  0 fps 0.19609603614563167\n",
      " foto  1 fps 0.19558803741746722\n",
      " foto  2 fps 0.18895280162366898\n",
      " foto  3 fps 0.18454812125732356\n",
      " foto  4 fps 0.17505652676412367\n",
      " foto  5 fps 0.17504499722893332\n",
      " foto  6 fps 0.176335721955238\n",
      " foto  7 fps 0.16784334320106828\n",
      " foto  8 fps 0.156791019427415\n",
      " foto  9 fps 0.15848908231636522\n",
      " foto  10 fps 0.15905418496512752\n",
      " foto  11 fps 0.16045504721843276\n",
      " foto  12 fps 0.14636200837262506\n",
      " foto  13 fps 0.1468699369079816\n",
      " foto  14 fps 0.147251350418309\n",
      " foto  15 fps 0.14809061122114464\n",
      " foto  16 fps 0.14889136852419996\n",
      " foto  17 fps 0.1499458425147949\n",
      " foto  18 fps 0.1504752822694963\n",
      " foto  19 fps 0.15111717143685774\n",
      " foto  20 fps 0.1516620632977251\n",
      " foto  21 fps 0.1526426743784394\n",
      " foto  22 fps 0.15315396119753444\n",
      " foto  23 fps 0.1534371790286504\n",
      " foto  24 fps 0.1538757157547241\n",
      " foto  25 fps 0.15413724390469857\n",
      " foto  26 fps 0.1547113778111575\n",
      " foto  27 fps 0.1548851552813847\n",
      " foto  28 fps 0.1549156290394453\n",
      " foto  29 fps 0.1550156612248697\n",
      " foto  30 fps 0.15489401497091168\n",
      " foto  31 fps 0.15482912611168187\n",
      " foto  32 fps 0.1546150310699376\n",
      " foto  33 fps 0.15463180130228804\n",
      " foto  34 fps 0.15442896219495972\n",
      " foto  35 fps 0.15452332069696523\n",
      " foto  36 fps 0.15473393334343127\n",
      " foto  37 fps 0.15485429145586996\n",
      " foto  38 fps 0.15513129030952658\n",
      " foto  39 fps 0.15544199470539158\n",
      " foto  40 fps 0.15545613047039863\n",
      " foto  41 fps 0.15529918894373612\n",
      " foto  42 fps 0.15567338819702528\n",
      " foto  43 fps 0.15582562643255626\n",
      " foto  44 fps 0.15584431296171553\n",
      " foto  45 fps 0.15464998009023015\n",
      " foto  46 fps 0.1545212036495649\n",
      " foto  47 fps 0.15429235740721745\n",
      " foto  48 fps 0.1547742507653829\n",
      " foto  49 fps 0.1553682671487903\n",
      " foto  50 fps 0.15584380863795355\n",
      " foto  51 fps 0.1561494403035587\n",
      " foto  52 fps 0.15557287583846366\n",
      " foto  53 fps 0.15559984581538114\n",
      " foto  54 fps 0.15587600685961756\n",
      " foto  55 fps 0.15612750543031437\n",
      " foto  56 fps 0.15625564085275803\n",
      " foto  57 fps 0.15385000347094277\n",
      " foto  58 fps 0.15402079440346855\n",
      " foto  59 fps 0.1542734161733344\n",
      " foto  60 fps 0.15430914729619108\n",
      " foto  61 fps 0.15412516569826684\n",
      " foto  62 fps 0.15394846940142762\n",
      " foto  63 fps 0.15384257650440902\n",
      " foto  64 fps 0.15376710523496162\n",
      " foto  65 fps 0.15393973023503232\n",
      " foto  66 fps 0.15386561166711923\n",
      " foto  67 fps 0.15388535900234407\n",
      " foto  68 fps 0.1540085754750405\n",
      " foto  69 fps 0.15412529110510548\n",
      " foto  70 fps 0.1542369978837381\n",
      " foto  71 fps 0.1544678267716771\n",
      " foto  72 fps 0.15468016687869074\n",
      " foto  73 fps 0.15474460863279743\n",
      " foto  74 fps 0.15517262775777232\n",
      " foto  75 fps 0.15549790928754245\n",
      " foto  76 fps 0.1558126758299556\n",
      " foto  77 fps 0.15596624769122497\n",
      " foto  78 fps 0.15606078149240904\n",
      " foto  79 fps 0.1562357970211813\n",
      " foto  80 fps 0.15625130771431534\n",
      " foto  81 fps 0.15657761756848756\n",
      " foto  82 fps 0.1565434178033412\n",
      " foto  83 fps 0.1566576706640486\n",
      " foto  84 fps 0.15682835136497933\n",
      " foto  85 fps 0.15719773994915298\n",
      " foto  86 fps 0.1575054558044312\n",
      " foto  87 fps 0.15777844577671013\n",
      " foto  88 fps 0.15809577266261848\n",
      " foto  89 fps 0.15841867025040973\n",
      " foto  90 fps 0.15869880315117585\n",
      " foto  91 fps 0.15893444025174672\n",
      " foto  92 fps 0.1592316329548004\n",
      " foto  93 fps 0.15955802662786323\n",
      " foto  94 fps 0.1597693252610797\n",
      " foto  95 fps 0.16004287444151222\n",
      " foto  96 fps 0.1602992367767176\n",
      " foto  97 fps 0.1606246003220727\n",
      " foto  98 fps 0.16087306816245717\n",
      " foto  99 fps 0.16100215803834772\n",
      " foto  100 fps 0.1613152208275008\n",
      " foto  101 fps 0.16125610217543226\n",
      " foto  102 fps 0.16130449334354896\n",
      " foto  103 fps 0.1615308591554817\n",
      " foto  104 fps 0.16185189585009094\n",
      " foto  105 fps 0.16214425657346224\n",
      " foto  106 fps 0.1624894599438067\n",
      " foto  107 fps 0.1627817267211934\n",
      " foto  108 fps 0.16307031146097065\n",
      " foto  109 fps 0.16333006347358195\n",
      " foto  110 fps 0.16357908939517615\n",
      " foto  111 fps 0.16361942558368656\n",
      " foto  112 fps 0.16368700725205024\n",
      " foto  113 fps 0.16367361240272496\n",
      " foto  114 fps 0.16335298681812999\n",
      " foto  115 fps 0.16339693190882656\n",
      " foto  116 fps 0.1633575098615107\n",
      " foto  117 fps 0.16345111728356368\n",
      " foto  118 fps 0.163617547378596\n",
      " foto  119 fps 0.16376459855676842\n",
      " foto  120 fps 0.16389251163479704\n",
      " foto  121 fps 0.1640679414422734\n",
      " foto  122 fps 0.16428088025609144\n",
      " foto  123 fps 0.16441422174523712\n",
      " foto  124 fps 0.16461873685697867\n",
      " foto  125 fps 0.16485974625720032\n",
      " foto  126 fps 0.16500053148178026\n",
      " foto  127 fps 0.16519460386827603\n",
      " foto  128 fps 0.16541837136808796\n",
      " foto  129 fps 0.16561522843930027\n",
      " foto  130 fps 0.16558052958826638\n",
      " foto  131 fps 0.16555507933801653\n",
      " foto  132 fps 0.1655205980399296\n",
      " foto  133 fps 0.16557104966820435\n",
      " foto  134 fps 0.1657754706391895\n",
      " foto  135 fps 0.1659871745913029\n"
     ]
    }
   ],
   "source": [
    "me_modelo_p.change_view(paths,paths_out,\"png\")"
   ]
  },
  {
   "cell_type": "code",
   "execution_count": null,
   "id": "5215c4a7",
   "metadata": {},
   "outputs": [],
   "source": []
  }
 ],
 "metadata": {
  "kernelspec": {
   "display_name": "Python 3 (ipykernel)",
   "language": "python",
   "name": "python3"
  },
  "language_info": {
   "codemirror_mode": {
    "name": "ipython",
    "version": 3
   },
   "file_extension": ".py",
   "mimetype": "text/x-python",
   "name": "python",
   "nbconvert_exporter": "python",
   "pygments_lexer": "ipython3",
   "version": "3.8.10"
  }
 },
 "nbformat": 4,
 "nbformat_minor": 5
}
