{
 "cells": [
  {
   "cell_type": "code",
   "execution_count": 2,
   "id": "cd6ca2f5",
   "metadata": {},
   "outputs": [],
   "source": [
    "import numpy as np\n"
   ]
  },
  {
   "cell_type": "code",
   "execution_count": 3,
   "id": "e4b09261",
   "metadata": {},
   "outputs": [
    {
     "name": "stdout",
     "output_type": "stream",
     "text": [
      "0.5\n"
     ]
    }
   ],
   "source": [
    "a=np.array([0,1])\n",
    "print(np.mean(a))"
   ]
  },
  {
   "cell_type": "code",
   "execution_count": 4,
   "id": "3b9e8610",
   "metadata": {},
   "outputs": [
    {
     "name": "stdout",
     "output_type": "stream",
     "text": [
      "1.0\n"
     ]
    }
   ],
   "source": [
    "\n",
    "print(np.mean(a[a != 0]))"
   ]
  },
  {
   "cell_type": "code",
   "execution_count": 5,
   "id": "ba0f036d",
   "metadata": {},
   "outputs": [],
   "source": [
    "from timer import Timer"
   ]
  },
  {
   "cell_type": "code",
   "execution_count": 6,
   "id": "27dd20cd",
   "metadata": {},
   "outputs": [],
   "source": [
    "timer = Timer()"
   ]
  },
  {
   "cell_type": "code",
   "execution_count": 50,
   "id": "1505933c",
   "metadata": {},
   "outputs": [
    {
     "data": {
      "text/plain": [
       "0.19556384086608886"
      ]
     },
     "execution_count": 50,
     "metadata": {},
     "output_type": "execute_result"
    }
   ],
   "source": [
    "timer.tic()\n",
    "a=[]\n",
    "b=[]\n",
    "c=[]\n",
    "for i in range(0,1000000):\n",
    "    a.append(i)\n",
    "    b.append(i)\n",
    "    c.append(i)\n",
    "    c.append(i)\n",
    "    c.append(i)\n",
    "timer.toc()\n"
   ]
  },
  {
   "cell_type": "code",
   "execution_count": 51,
   "id": "3f4f23c3",
   "metadata": {},
   "outputs": [],
   "source": [
    "timer2 = Timer()"
   ]
  },
  {
   "cell_type": "code",
   "execution_count": 52,
   "id": "0bf3dde4",
   "metadata": {},
   "outputs": [
    {
     "data": {
      "text/plain": [
       "0.6054000854492188"
      ]
     },
     "execution_count": 52,
     "metadata": {},
     "output_type": "execute_result"
    }
   ],
   "source": [
    "timer2.tic()\n",
    "a=[]\n",
    "\n",
    "for i in range(0,1000000):\n",
    "    a.append([i,i,i])\n",
    "timer2.toc()"
   ]
  },
  {
   "cell_type": "code",
   "execution_count": 53,
   "id": "24f88a49",
   "metadata": {},
   "outputs": [],
   "source": [
    "timer3 = Timer()"
   ]
  },
  {
   "cell_type": "code",
   "execution_count": 54,
   "id": "54ece876",
   "metadata": {},
   "outputs": [
    {
     "data": {
      "text/plain": [
       "0.07324075698852539"
      ]
     },
     "execution_count": 54,
     "metadata": {},
     "output_type": "execute_result"
    }
   ],
   "source": [
    "timer3.tic()\n",
    "a={i for i in range(0,1000000)  }\n",
    "timer3.toc()"
   ]
  },
  {
   "cell_type": "code",
   "execution_count": 55,
   "id": "167fcf42",
   "metadata": {},
   "outputs": [],
   "source": [
    "timer3 = Timer()"
   ]
  },
  {
   "cell_type": "code",
   "execution_count": 56,
   "id": "650ef85a",
   "metadata": {},
   "outputs": [
    {
     "data": {
      "text/plain": [
       "0.05670881271362305"
      ]
     },
     "execution_count": 56,
     "metadata": {},
     "output_type": "execute_result"
    }
   ],
   "source": [
    "timer3.tic()\n",
    "a=[]\n",
    "for i in range(0,1000000):\n",
    "    a.append(i)\n",
    "timer3.toc()"
   ]
  },
  {
   "cell_type": "code",
   "execution_count": 57,
   "id": "d16a96ae",
   "metadata": {},
   "outputs": [
    {
     "data": {
      "text/plain": [
       "0.16726398468017578"
      ]
     },
     "execution_count": 57,
     "metadata": {},
     "output_type": "execute_result"
    }
   ],
   "source": [
    "timer3 = Timer()\n",
    "timer3.tic()\n",
    "b=[i for i,j,g,h in zip(a,a,a,a)]\n",
    "b=[i for i,j,g,h in zip(a,a,a,a)]\n",
    "b=[i for i,j,g,h in zip(a,a,a,a)]\n",
    "b=[i for i,j,g,h in zip(a,a,a,a)]\n",
    "b=[i for i,j,g,h in zip(a,a,a,a)]\n",
    "timer3.toc()"
   ]
  },
  {
   "cell_type": "code",
   "execution_count": null,
   "id": "b2bcf6f6",
   "metadata": {},
   "outputs": [],
   "source": []
  }
 ],
 "metadata": {
  "kernelspec": {
   "display_name": "Python 3 (ipykernel)",
   "language": "python",
   "name": "python3"
  },
  "language_info": {
   "codemirror_mode": {
    "name": "ipython",
    "version": 3
   },
   "file_extension": ".py",
   "mimetype": "text/x-python",
   "name": "python",
   "nbconvert_exporter": "python",
   "pygments_lexer": "ipython3",
   "version": "3.8.10"
  }
 },
 "nbformat": 4,
 "nbformat_minor": 5
}
