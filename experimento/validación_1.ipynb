{
 "cells": [
  {
   "cell_type": "code",
   "execution_count": 87,
   "id": "cedaff3e",
   "metadata": {},
   "outputs": [],
   "source": [
    "import numpy\n",
    "import matplotlib\n",
    "from matplotlib import pylab, mlab, pyplot\n",
    "np = numpy\n",
    "plt = pyplot\n",
    "\n",
    "from IPython.display import display\n",
    "from IPython.core.pylabtools import figsize, getfigs\n",
    "\n",
    "from pylab import *\n",
    "from numpy import *"
   ]
  },
  {
   "cell_type": "code",
   "execution_count": 88,
   "id": "5c4e100f",
   "metadata": {},
   "outputs": [],
   "source": [
    "gt = open('GT.txt')\n",
    "pred = open('predict_11.txt')"
   ]
  },
  {
   "cell_type": "code",
   "execution_count": 89,
   "id": "32c1fe2a",
   "metadata": {},
   "outputs": [],
   "source": [
    "lineas_pred = pred.readlines()\n",
    "lista_lineas_pred=[]\n",
    "dict_lineas_pred={}\n",
    "lista_lineas_pred_comun=[]\n",
    "\n",
    "for linea in lineas_pred:\n",
    "    #print(linea[:-1].split(\"\\t\"))\n",
    "    val=[float(i)  for i in linea[:-1].split(\"\\t\")]\n",
    "    if val[0]>33 and val[0]<67:\n",
    "        if not val[1] in  dict_lineas_pred:\n",
    "            dict_lineas_pred[val[1]]={\"frame\":[val[0]],\"pos_x\":[val[-2]],\"pos_x2\":[val[-2]],\"pos_y\":[val[-1]]}\n",
    "        else:\n",
    "            dict_lineas_pred[val[1]][\"frame\"].append(val[0])\n",
    "            dict_lineas_pred[val[1]][\"pos_x\"].append(val[-2])\n",
    "            dict_lineas_pred[val[1]][\"pos_x2\"].append(val[-4])\n",
    "            dict_lineas_pred[val[1]][\"pos_y\"].append(val[-1])\n",
    "\n",
    "    lista_lineas_pred.append(val)\n",
    "    if val[1] in [1,2,3,5] and val[0]>33 and val[0]<67:\n",
    "        lista_lineas_pred_comun.append(val)"
   ]
  },
  {
   "cell_type": "code",
   "execution_count": 90,
   "id": "f102a26b",
   "metadata": {},
   "outputs": [],
   "source": [
    "lineas_gt = gt.readlines()\n",
    "lista_lineas_gt=[]\n",
    "dict_lineas_gt={}\n",
    "for linea in lineas_gt:\n",
    "    val=[float(i)  for i in linea[:-1].split(\"\\t\")]\n",
    "    #print(dict_lineas_gt)\n",
    "    if val[1] in  dict_lineas_gt:\n",
    "        dict_lineas_gt[val[1]][\"frame\"].append(val[0])\n",
    "        dict_lineas_gt[val[1]][\"pos_x\"].append(val[-2])\n",
    "        dict_lineas_gt[val[1]][\"pos_y\"].append(val[-1])\n",
    "    else:\n",
    "    \n",
    "        dict_lineas_gt[val[1]]={\"frame\":[val[0]],\"pos_x\":[val[-2]],\"pos_y\":[val[-1]]}\n",
    "    #print(dict_lineas_gt)\n",
    "    lista_lineas_gt.append(val)"
   ]
  },
  {
   "cell_type": "code",
   "execution_count": 91,
   "id": "34b02369",
   "metadata": {},
   "outputs": [
    {
     "name": "stdout",
     "output_type": "stream",
     "text": [
      "132 541 132\n"
     ]
    }
   ],
   "source": [
    "print(len(lista_lineas_gt),len(lista_lineas_pred),len(lista_lineas_pred_comun))"
   ]
  },
  {
   "cell_type": "code",
   "execution_count": 92,
   "id": "51c094c6",
   "metadata": {},
   "outputs": [
    {
     "name": "stdout",
     "output_type": "stream",
     "text": [
      "34.0 4\n",
      "35.0 4\n",
      "36.0 4\n",
      "37.0 4\n",
      "38.0 4\n",
      "39.0 4\n",
      "40.0 4\n",
      "41.0 4\n",
      "42.0 4\n",
      "43.0 4\n",
      "44.0 4\n",
      "45.0 4\n",
      "46.0 4\n",
      "47.0 4\n",
      "48.0 4\n",
      "49.0 4\n",
      "50.0 4\n",
      "51.0 4\n",
      "52.0 4\n",
      "53.0 4\n",
      "54.0 4\n",
      "55.0 4\n",
      "56.0 4\n",
      "57.0 4\n",
      "58.0 4\n",
      "59.0 4\n",
      "60.0 4\n",
      "61.0 4\n",
      "62.0 4\n",
      "63.0 4\n",
      "64.0 4\n",
      "65.0 4\n"
     ]
    }
   ],
   "source": [
    "cont=0\n",
    "val_t=lista_lineas_gt[0][0]\n",
    "for i in lista_lineas_gt:\n",
    "    val_3=i[0]\n",
    "    if val_3!=val_t:\n",
    "        print(val_t,cont)\n",
    "        val_t=val_3\n",
    "        cont=1\n",
    "    else:\n",
    "        cont+=1"
   ]
  },
  {
   "cell_type": "code",
   "execution_count": 93,
   "id": "36faaea1",
   "metadata": {},
   "outputs": [
    {
     "name": "stdout",
     "output_type": "stream",
     "text": [
      "34.0 4\n",
      "35.0 4\n",
      "36.0 4\n",
      "37.0 4\n",
      "38.0 4\n",
      "39.0 4\n",
      "40.0 4\n",
      "41.0 4\n",
      "42.0 4\n",
      "43.0 4\n",
      "44.0 4\n",
      "45.0 4\n",
      "46.0 4\n",
      "47.0 4\n",
      "48.0 4\n",
      "49.0 4\n",
      "50.0 4\n",
      "51.0 4\n",
      "52.0 4\n",
      "53.0 4\n",
      "54.0 4\n",
      "55.0 4\n",
      "56.0 4\n",
      "57.0 4\n",
      "58.0 4\n",
      "59.0 4\n",
      "60.0 4\n",
      "61.0 4\n",
      "62.0 4\n",
      "63.0 4\n",
      "64.0 4\n",
      "65.0 4\n"
     ]
    }
   ],
   "source": [
    "cont=0\n",
    "val_t=lista_lineas_pred_comun[0][0]\n",
    "for i in lista_lineas_pred_comun:\n",
    "    val_3=i[0]\n",
    "    if val_3!=val_t:\n",
    "        print(val_t,cont)\n",
    "        val_t=val_3\n",
    "        cont=1\n",
    "    else:\n",
    "        cont+=1"
   ]
  },
  {
   "cell_type": "markdown",
   "id": "601d612f",
   "metadata": {},
   "source": [
    "# Test\n",
    "\n",
    "    Para comprobar si funciona correctamente  comprobamos la correlación de las entradas cuanto mas se aproxime a una función lineal de pendiente 1  o -1 mejor y que el error cuadratico sea bajo"
   ]
  },
  {
   "cell_type": "code",
   "execution_count": 94,
   "id": "8711abc6",
   "metadata": {},
   "outputs": [],
   "source": [
    "def MES(y_true,y_pred):\n",
    "    return (np.square(y_true - y_pred)).mean()\n",
    "\n",
    "def RMES(list1,lista2):\n",
    "    return np.sqrt(MES(list1,lista2))"
   ]
  },
  {
   "cell_type": "markdown",
   "id": "24918cec",
   "metadata": {},
   "source": [
    "### Profundidad"
   ]
  },
  {
   "cell_type": "code",
   "execution_count": 101,
   "id": "8b033f42",
   "metadata": {},
   "outputs": [
    {
     "name": "stdout",
     "output_type": "stream",
     "text": [
      "1.0\n",
      "33 33\n",
      "Error Cuadrático Medio (MSE) = 0.006580884436037817\n",
      "Raíz del Error Cuadrático Medio (RMSE) = 0.08112265057330054\n",
      "2.0\n",
      "33 33\n",
      "Error Cuadrático Medio (MSE) = 0.37690724130834147\n",
      "Raíz del Error Cuadrático Medio (RMSE) = 0.6139277166803446\n",
      "3.0\n",
      "33 33\n",
      "Error Cuadrático Medio (MSE) = 0.3022587149819066\n",
      "Raíz del Error Cuadrático Medio (RMSE) = 0.5497806062257077\n",
      "6.0\n",
      "33 33\n",
      "Error Cuadrático Medio (MSE) = 0.10772993060503673\n",
      "Raíz del Error Cuadrático Medio (RMSE) = 0.32822237980527275\n"
     ]
    }
   ],
   "source": [
    "#dict_lineas_gt\n",
    "#dict_lineas_pred\n",
    "\n",
    "# importamos el cálculo del error cuadrático medio (MSE)\n",
    "from sklearn.metrics import mean_squared_error\n",
    "\n",
    "profundidad=[]\n",
    "for key_gt in dict_lineas_gt:\n",
    "    print(key_gt)\n",
    "    if key_gt!=12:\n",
    "        real_val=np.array(dict_lineas_gt[key_gt][\"pos_y\"])+8*0.4\n",
    "        if key_gt==6:\n",
    "            key_gt=5\n",
    "\n",
    "        pixl_val=np.array(dict_lineas_pred[key_gt][\"pos_y\"])\n",
    "        \n",
    "        print(len(real_val),len(pixl_val))\n",
    "        # Predecimos los valores y para los datos usados en el entrenamiento\n",
    "     \n",
    "        # Calculamos el Error Cuadrático Medio (MSE = Mean Squared Error)\n",
    "        mse = mean_squared_error(y_true = real_val, y_pred = pixl_val)\n",
    "        # La raíz cuadrada del MSE es el RMSE\n",
    "        rmse = np.sqrt(mse)\n",
    "        print('Error Cuadrático Medio (MSE) = ' + str(mse))\n",
    "        print('Raíz del Error Cuadrático Medio (RMSE) = ' + str(rmse))\n",
    "        profundidad.append([real_val,pixl_val])"
   ]
  },
  {
   "cell_type": "markdown",
   "id": "2e2954ee",
   "metadata": {},
   "source": [
    "### EJE X"
   ]
  },
  {
   "cell_type": "markdown",
   "id": "ee75333e",
   "metadata": {},
   "source": [
    "### Por Homografia"
   ]
  },
  {
   "cell_type": "code",
   "execution_count": 103,
   "id": "8537777a",
   "metadata": {},
   "outputs": [
    {
     "name": "stdout",
     "output_type": "stream",
     "text": [
      "1.0\n",
      "33 33\n",
      "Error Cuadrático Medio (MSE) = 0.10956399694182571\n",
      "Raíz del Error Cuadrático Medio (RMSE) = 0.33100452707149747\n",
      "2.0\n",
      "33 33\n",
      "Error Cuadrático Medio (MSE) = 0.8309574706007258\n",
      "Raíz del Error Cuadrático Medio (RMSE) = 0.9115686867157766\n",
      "3.0\n",
      "33 33\n",
      "Error Cuadrático Medio (MSE) = 0.23647419404932324\n",
      "Raíz del Error Cuadrático Medio (RMSE) = 0.4862861236446329\n",
      "6.0\n",
      "33 33\n",
      "Error Cuadrático Medio (MSE) = 0.14455700629328214\n",
      "Raíz del Error Cuadrático Medio (RMSE) = 0.3802065311028759\n"
     ]
    }
   ],
   "source": [
    "#dict_lineas_gt\n",
    "#dict_lineas_pred\n",
    "\n",
    "# importamos el cálculo del error cuadrático medio (MSE)\n",
    "from sklearn.metrics import mean_squared_error\n",
    "\n",
    "profundidad=[]\n",
    "for key_gt in dict_lineas_gt:\n",
    "    print(key_gt)\n",
    "    if key_gt!=12:\n",
    "        real_val=np.array(dict_lineas_gt[key_gt][\"pos_x\"])\n",
    "        if key_gt==6:\n",
    "            key_gt=5\n",
    "\n",
    "        pixl_val=np.array(dict_lineas_pred[key_gt][\"pos_x\"])\n",
    "        \n",
    "        print(len(real_val),len(pixl_val))\n",
    "        # Predecimos los valores y para los datos usados en el entrenamiento\n",
    "     \n",
    "        # Calculamos el Error Cuadrático Medio (MSE = Mean Squared Error)\n",
    "        mse = mean_squared_error(y_true = real_val, y_pred = pixl_val)\n",
    "        # La raíz cuadrada del MSE es el RMSE\n",
    "        rmse = np.sqrt(mse)\n",
    "        print('Error Cuadrático Medio (MSE) = ' + str(mse))\n",
    "        print('Raíz del Error Cuadrático Medio (RMSE) = ' + str(rmse))\n",
    "        profundidad.append([real_val,pixl_val])"
   ]
  },
  {
   "cell_type": "markdown",
   "id": "2b9fe877",
   "metadata": {},
   "source": [
    "### A traves del punto de convergencia"
   ]
  },
  {
   "cell_type": "code",
   "execution_count": 104,
   "id": "c57ea121",
   "metadata": {},
   "outputs": [
    {
     "name": "stdout",
     "output_type": "stream",
     "text": [
      "1.0\n",
      "33 33\n",
      "Error Cuadrático Medio (MSE) = 0.0041844548323840165\n",
      "Raíz del Error Cuadrático Medio (RMSE) = 0.06468736223084086\n",
      "2.0\n",
      "33 33\n",
      "Error Cuadrático Medio (MSE) = 42.08260304162737\n",
      "Raíz del Error Cuadrático Medio (RMSE) = 6.487110531016669\n",
      "3.0\n",
      "33 33\n",
      "Error Cuadrático Medio (MSE) = 25.157781847251215\n",
      "Raíz del Error Cuadrático Medio (RMSE) = 5.015753367865212\n",
      "6.0\n",
      "33 33\n",
      "Error Cuadrático Medio (MSE) = 0.714843318001932\n",
      "Raíz del Error Cuadrático Medio (RMSE) = 0.8454840731805254\n"
     ]
    }
   ],
   "source": [
    "#dict_lineas_gt\n",
    "#dict_lineas_pred\n",
    "\n",
    "# importamos el cálculo del error cuadrático medio (MSE)\n",
    "from sklearn.metrics import mean_squared_error\n",
    "\n",
    "profundidad=[]\n",
    "for key_gt in dict_lineas_gt:\n",
    "    print(key_gt)\n",
    "    if key_gt!=12:\n",
    "        real_val=np.array(dict_lineas_gt[key_gt][\"pos_x\"])\n",
    "        if key_gt==6:\n",
    "            key_gt=5\n",
    "\n",
    "        pixl_val=np.array(dict_lineas_pred[key_gt][\"pos_x2\"])\n",
    "        \n",
    "        print(len(real_val),len(pixl_val))\n",
    "        # Predecimos los valores y para los datos usados en el entrenamiento\n",
    "     \n",
    "        # Calculamos el Error Cuadrático Medio (MSE = Mean Squared Error)\n",
    "        mse = mean_squared_error(y_true = real_val, y_pred = pixl_val)\n",
    "        # La raíz cuadrada del MSE es el RMSE\n",
    "        rmse = np.sqrt(mse)\n",
    "        print('Error Cuadrático Medio (MSE) = ' + str(mse))\n",
    "        print('Raíz del Error Cuadrático Medio (RMSE) = ' + str(rmse))\n",
    "        profundidad.append([real_val,pixl_val])"
   ]
  },
  {
   "cell_type": "code",
   "execution_count": 122,
   "id": "558046f5",
   "metadata": {},
   "outputs": [
    {
     "name": "stdout",
     "output_type": "stream",
     "text": [
      "1.0\n",
      "Error Cuadrático Medio (MSE) = 0.714843318001932\n",
      "Raíz del Error Cuadrático Medio (RMSE) = 0.8454840731805254\n",
      "2.0\n",
      "Error Cuadrático Medio (MSE) = 0.714843318001932\n",
      "Raíz del Error Cuadrático Medio (RMSE) = 0.8454840731805254\n",
      "3.0\n",
      "Error Cuadrático Medio (MSE) = 0.714843318001932\n",
      "Raíz del Error Cuadrático Medio (RMSE) = 0.8454840731805254\n",
      "6.0\n",
      "Error Cuadrático Medio (MSE) = 0.714843318001932\n",
      "Raíz del Error Cuadrático Medio (RMSE) = 0.8454840731805254\n"
     ]
    },
    {
     "data": {
      "image/png": "[encoded data removed]",
      "text/plain": [
       "<Figure size 432x288 with 1 Axes>"
      ]
     },
     "metadata": {
      "needs_background": "light"
     },
     "output_type": "display_data"
    },
    {
     "data": {
      "image/png": "[encoded data removed]",
      "text/plain": [
       "<Figure size 432x288 with 1 Axes>"
      ]
     },
     "metadata": {
      "needs_background": "light"
     },
     "output_type": "display_data"
    },
    {
     "data": {
      "image/png": "[encoded data removed]",
      "text/plain": [
       "<Figure size 432x288 with 1 Axes>"
      ]
     },
     "metadata": {
      "needs_background": "light"
     },
     "output_type": "display_data"
    },
    {
     "data": {
      "image/png": "[encoded data removed]",
      "text/plain": [
       "<Figure size 432x288 with 1 Axes>"
      ]
     },
     "metadata": {
      "needs_background": "light"
     },
     "output_type": "display_data"
    }
   ],
   "source": [
    "profundidad=[]\n",
    "for key_gt in dict_lineas_gt:\n",
    "    print(key_gt)\n",
    "    if key_gt!=12:\n",
    "        real_valx=np.array(dict_lineas_gt[key_gt][\"pos_x\"])\n",
    "        real_valy=np.array(dict_lineas_gt[key_gt][\"pos_y\"])+8*0.4\n",
    "        if key_gt==6:\n",
    "            key_gt=5\n",
    "        \n",
    "        pixl_valy=np.array(dict_lineas_pred[key_gt][\"pos_y\"])\n",
    "        pixl_valx=np.array(dict_lineas_pred[key_gt][\"pos_x2\"])\n",
    "        \n",
    "        pixl_valx2=np.array(dict_lineas_pred[key_gt][\"pos_x\"])\n",
    "        \n",
    "        \n",
    "        plt.figure()\n",
    "        plt.scatter(real_valx,real_valy,label='real', color='red')\n",
    "        plt.scatter(pixl_valx2,pixl_valy,label='prediction1', color='green')\n",
    "        plt.scatter(pixl_valx,pixl_valy,label='prediction2', color='blue')\n",
    "        plt.legend()\n",
    "        plt.title('pos per '+str(key_gt))\n",
    "\n",
    "        # Predecimos los valores y para los datos usados en el entrenamiento\n",
    "     \n",
    "        # Calculamos el Error Cuadrático Medio (MSE = Mean Squared Error)\n",
    "        mse = mean_squared_error(y_true = real_val, y_pred = pixl_val)\n",
    "        # La raíz cuadrada del MSE es el RMSE\n",
    "        rmse = np.sqrt(mse)\n",
    "        print('Error Cuadrático Medio (MSE) = ' + str(mse))\n",
    "        print('Raíz del Error Cuadrático Medio (RMSE) = ' + str(rmse))\n",
    "        profundidad.append([real_val,pixl_val])"
   ]
  },
  {
   "cell_type": "code",
   "execution_count": null,
   "id": "6c8e716e",
   "metadata": {},
   "outputs": [],
   "source": []
  }
 ],
 "metadata": {
  "kernelspec": {
   "display_name": "Python 3 (ipykernel)",
   "language": "python",
   "name": "python3"
  },
  "language_info": {
   "codemirror_mode": {
    "name": "ipython",
    "version": 3
   },
   "file_extension": ".py",
   "mimetype": "text/x-python",
   "name": "python",
   "nbconvert_exporter": "python",
   "pygments_lexer": "ipython3",
   "version": "3.8.10"
  }
 },
 "nbformat": 4,
 "nbformat_minor": 5
}
