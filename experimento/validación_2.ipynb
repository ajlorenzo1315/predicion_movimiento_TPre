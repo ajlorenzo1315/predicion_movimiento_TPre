{
 "cells": [
  {
   "cell_type": "code",
   "execution_count": 30,
   "id": "cedaff3e",
   "metadata": {},
   "outputs": [],
   "source": [
    "import numpy\n",
    "import matplotlib\n",
    "from matplotlib import pylab, mlab, pyplot\n",
    "np = numpy\n",
    "plt = pyplot\n",
    "\n",
    "from IPython.display import display\n",
    "from IPython.core.pylabtools import figsize, getfigs\n",
    "\n",
    "from pylab import *\n",
    "from numpy import *"
   ]
  },
  {
   "cell_type": "code",
   "execution_count": 31,
   "id": "5c4e100f",
   "metadata": {},
   "outputs": [],
   "source": [
    "gt = open('GT_Prueba_1.txt')\n",
    "pred = open('prediction_prueba_12.txt')"
   ]
  },
  {
   "cell_type": "code",
   "execution_count": 32,
   "id": "32c1fe2a",
   "metadata": {},
   "outputs": [],
   "source": [
    "lineas_pred = pred.readlines()\n",
    "lista_lineas_pred=[]\n",
    "dict_lineas_pred={}\n",
    "lista_lineas_pred_comun=[]\n",
    "\n",
    "for linea in lineas_pred:\n",
    "    #print(linea[:-1].split(\"\\t\"))\n",
    "    val=[float(i)  for i in linea[:-1].split(\"\\t\")]\n",
    "    if val[0]>19 and val[0]<41:\n",
    "        if not val[1] in  dict_lineas_pred:\n",
    "            dict_lineas_pred[val[1]]={\"frame\":[val[0]],\"pos_x\":[val[-2]],\"pos_x2\":[val[-2]],\"pos_y\":[val[-1]]}\n",
    "        else:\n",
    "            dict_lineas_pred[val[1]][\"frame\"].append(val[0])\n",
    "            dict_lineas_pred[val[1]][\"pos_x\"].append(val[-2])\n",
    "            dict_lineas_pred[val[1]][\"pos_x2\"].append(val[-4])\n",
    "            dict_lineas_pred[val[1]][\"pos_y\"].append(val[-1])\n",
    "\n",
    "    lista_lineas_pred.append(val)\n",
    "    if val[1] in [1,2,3,5] and val[0]>19 and val[0]<41:\n",
    "        lista_lineas_pred_comun.append(val)"
   ]
  },
  {
   "cell_type": "code",
   "execution_count": 33,
   "id": "f102a26b",
   "metadata": {},
   "outputs": [],
   "source": [
    "lineas_gt = gt.readlines()\n",
    "lista_lineas_gt=[]\n",
    "dict_lineas_gt={}\n",
    "for linea in lineas_gt:\n",
    "    val=[float(i)  for i in linea[:-1].split(\"\\t\")]\n",
    "    #print(dict_lineas_gt)\n",
    "    if val[1] in  dict_lineas_gt:\n",
    "        dict_lineas_gt[val[1]][\"frame\"].append(val[0])\n",
    "        dict_lineas_gt[val[1]][\"pos_x\"].append(val[-2])\n",
    "        dict_lineas_gt[val[1]][\"pos_y\"].append(val[-1])\n",
    "    else:\n",
    "    \n",
    "        dict_lineas_gt[val[1]]={\"frame\":[val[0]],\"pos_x\":[val[-2]],\"pos_y\":[val[-1]]}\n",
    "    #print(dict_lineas_gt)\n",
    "    lista_lineas_gt.append(val)"
   ]
  },
  {
   "cell_type": "code",
   "execution_count": 34,
   "id": "34b02369",
   "metadata": {},
   "outputs": [
    {
     "name": "stdout",
     "output_type": "stream",
     "text": [
      "84 387 84\n"
     ]
    }
   ],
   "source": [
    "print(len(lista_lineas_gt),len(lista_lineas_pred),len(lista_lineas_pred_comun))"
   ]
  },
  {
   "cell_type": "code",
   "execution_count": 35,
   "id": "51c094c6",
   "metadata": {},
   "outputs": [
    {
     "name": "stdout",
     "output_type": "stream",
     "text": [
      "20.0 4\n",
      "21.0 4\n",
      "22.0 4\n",
      "23.0 4\n",
      "24.0 4\n",
      "25.0 4\n",
      "26.0 4\n",
      "27.0 4\n",
      "28.0 4\n",
      "29.0 4\n",
      "30.0 4\n",
      "31.0 4\n",
      "32.0 4\n",
      "33.0 4\n",
      "34.0 4\n",
      "35.0 4\n",
      "36.0 4\n",
      "37.0 4\n",
      "38.0 4\n",
      "39.0 4\n"
     ]
    }
   ],
   "source": [
    "cont=0\n",
    "val_t=lista_lineas_gt[0][0]\n",
    "for i in lista_lineas_gt:\n",
    "    val_3=i[0]\n",
    "    if val_3!=val_t:\n",
    "        print(val_t,cont)\n",
    "        val_t=val_3\n",
    "        cont=1\n",
    "    else:\n",
    "        cont+=1"
   ]
  },
  {
   "cell_type": "code",
   "execution_count": 36,
   "id": "36faaea1",
   "metadata": {},
   "outputs": [
    {
     "name": "stdout",
     "output_type": "stream",
     "text": [
      "20.0 4\n",
      "21.0 4\n",
      "22.0 4\n",
      "23.0 4\n",
      "24.0 4\n",
      "25.0 4\n",
      "26.0 4\n",
      "27.0 4\n",
      "28.0 4\n",
      "29.0 4\n",
      "30.0 4\n",
      "31.0 4\n",
      "32.0 4\n",
      "33.0 4\n",
      "34.0 4\n",
      "35.0 4\n",
      "36.0 4\n",
      "37.0 4\n",
      "38.0 4\n",
      "39.0 4\n"
     ]
    }
   ],
   "source": [
    "cont=0\n",
    "val_t=lista_lineas_pred_comun[0][0]\n",
    "for i in lista_lineas_pred_comun:\n",
    "    val_3=i[0]\n",
    "    if val_3!=val_t:\n",
    "        print(val_t,cont)\n",
    "        val_t=val_3\n",
    "        cont=1\n",
    "    else:\n",
    "        cont+=1"
   ]
  },
  {
   "cell_type": "markdown",
   "id": "601d612f",
   "metadata": {},
   "source": [
    "# Test\n",
    "\n",
    "    Para comprobar si funciona correctamente  comprobamos la correlación de las entradas cuanto mas se aproxime a una función lineal de pendiente 1  o -1 mejor y que el error cuadratico sea bajo"
   ]
  },
  {
   "cell_type": "code",
   "execution_count": 37,
   "id": "8711abc6",
   "metadata": {},
   "outputs": [],
   "source": [
    "def MES(y_true,y_pred):\n",
    "    return (np.square(y_true - y_pred)).mean()\n",
    "\n",
    "def RMES(list1,lista2):\n",
    "    return np.sqrt(MES(list1,lista2))"
   ]
  },
  {
   "cell_type": "markdown",
   "id": "24918cec",
   "metadata": {},
   "source": [
    "### Profundidad"
   ]
  },
  {
   "cell_type": "code",
   "execution_count": 38,
   "id": "37dad3a1",
   "metadata": {},
   "outputs": [
    {
     "name": "stdout",
     "output_type": "stream",
     "text": [
      "1.0\n",
      "21 21\n",
      "Error Cuadrático Medio (MSE) = 0.001135417598729585\n",
      "Raíz del Error Cuadrático Medio (RMSE) = 0.033695958195747826\n",
      "2.0\n",
      "21 21\n",
      "Error Cuadrático Medio (MSE) = 1.800585528477989\n",
      "Raíz del Error Cuadrático Medio (RMSE) = 1.3418589823368137\n",
      "3.0\n",
      "21 21\n",
      "Error Cuadrático Medio (MSE) = 0.0009645882812641422\n",
      "Raíz del Error Cuadrático Medio (RMSE) = 0.03105782157950139\n",
      "6.0\n",
      "21 21\n",
      "Error Cuadrático Medio (MSE) = 3.191655223986074\n",
      "Raíz del Error Cuadrático Medio (RMSE) = 1.7865204236129164\n"
     ]
    }
   ],
   "source": [
    "#dict_lineas_gt\n",
    "#dict_lineas_pred\n",
    "\n",
    "# importamos el cálculo del error cuadrático medio (MSE)\n",
    "from sklearn.metrics import mean_squared_error\n",
    "\n",
    "profundidad=[]\n",
    "for key_gt in dict_lineas_gt:\n",
    "    print(key_gt)\n",
    "    if key_gt!=12:\n",
    "        real_val=np.array(dict_lineas_gt[key_gt][\"pos_y\"])+8*0.4\n",
    "        if key_gt==6:\n",
    "            key_gt=3\n",
    "        elif key_gt==3:\n",
    "            key_gt=4\n",
    "        pixl_val=np.array(dict_lineas_pred[key_gt][\"pos_y\"])\n",
    "        \n",
    "        print(len(real_val),len(pixl_val))\n",
    "        # Predecimos los valores y para los datos usados en el entrenamiento\n",
    "     \n",
    "        # Calculamos el Error Cuadrático Medio (MSE = Mean Squared Error)\n",
    "        mse = mean_squared_error(y_true = real_val, y_pred = pixl_val)\n",
    "        # La raíz cuadrada del MSE es el RMSE\n",
    "        rmse = np.sqrt(mse)\n",
    "        print('Error Cuadrático Medio (MSE) = ' + str(mse))\n",
    "        print('Raíz del Error Cuadrático Medio (RMSE) = ' + str(rmse))\n",
    "        profundidad.append([real_val,pixl_val])"
   ]
  },
  {
   "cell_type": "markdown",
   "id": "2e2954ee",
   "metadata": {},
   "source": [
    "### EJE X"
   ]
  },
  {
   "cell_type": "markdown",
   "id": "ee75333e",
   "metadata": {},
   "source": [
    "### Por Homografia"
   ]
  },
  {
   "cell_type": "code",
   "execution_count": 39,
   "id": "8537777a",
   "metadata": {},
   "outputs": [
    {
     "name": "stdout",
     "output_type": "stream",
     "text": [
      "1.0\n",
      "21 21\n",
      "Error Cuadrático Medio (MSE) = 0.05492781340861294\n",
      "Raíz del Error Cuadrático Medio (RMSE) = 0.2343668351294887\n",
      "2.0\n",
      "21 21\n",
      "Error Cuadrático Medio (MSE) = 2.245207909564915\n",
      "Raíz del Error Cuadrático Medio (RMSE) = 1.4984017850913403\n",
      "3.0\n",
      "21 21\n",
      "Error Cuadrático Medio (MSE) = 0.057597838826247166\n",
      "Raíz del Error Cuadrático Medio (RMSE) = 0.23999549751244745\n",
      "6.0\n",
      "21 21\n",
      "Error Cuadrático Medio (MSE) = 0.9861477510501522\n",
      "Raíz del Error Cuadrático Medio (RMSE) = 0.9930497223453376\n"
     ]
    }
   ],
   "source": [
    "#dict_lineas_gt\n",
    "#dict_lineas_pred\n",
    "\n",
    "# importamos el cálculo del error cuadrático medio (MSE)\n",
    "from sklearn.metrics import mean_squared_error\n",
    "\n",
    "profundidad=[]\n",
    "for key_gt in dict_lineas_gt:\n",
    "    print(key_gt)\n",
    "    if key_gt!=12:\n",
    "        real_val=np.array(dict_lineas_gt[key_gt][\"pos_x\"])\n",
    "        if key_gt==6:\n",
    "            key_gt=3\n",
    "        elif key_gt==3:\n",
    "            key_gt=4\n",
    "\n",
    "        pixl_val=np.array(dict_lineas_pred[key_gt][\"pos_x\"])\n",
    "        \n",
    "        print(len(real_val),len(pixl_val))\n",
    "        # Predecimos los valores y para los datos usados en el entrenamiento\n",
    "     \n",
    "        # Calculamos el Error Cuadrático Medio (MSE = Mean Squared Error)\n",
    "        mse = mean_squared_error(y_true = real_val, y_pred = pixl_val)\n",
    "        # La raíz cuadrada del MSE es el RMSE\n",
    "        rmse = np.sqrt(mse)\n",
    "        print('Error Cuadrático Medio (MSE) = ' + str(mse))\n",
    "        print('Raíz del Error Cuadrático Medio (RMSE) = ' + str(rmse))\n",
    "        profundidad.append([real_val,pixl_val])"
   ]
  },
  {
   "cell_type": "markdown",
   "id": "2b9fe877",
   "metadata": {},
   "source": [
    "### A traves del punto de convergencia"
   ]
  },
  {
   "cell_type": "code",
   "execution_count": 40,
   "id": "c57ea121",
   "metadata": {},
   "outputs": [
    {
     "name": "stdout",
     "output_type": "stream",
     "text": [
      "1.0\n",
      "21 21\n",
      "Error Cuadrático Medio (MSE) = 0.005405690763197017\n",
      "Raíz del Error Cuadrático Medio (RMSE) = 0.07352340282656276\n",
      "2.0\n",
      "21 21\n",
      "Error Cuadrático Medio (MSE) = 15.78143803114866\n",
      "Raíz del Error Cuadrático Medio (RMSE) = 3.972585811678416\n",
      "3.0\n",
      "21 21\n",
      "Error Cuadrático Medio (MSE) = 1.979012485788472\n",
      "Raíz del Error Cuadrático Medio (RMSE) = 1.4067737862884964\n",
      "6.0\n",
      "21 21\n",
      "Error Cuadrático Medio (MSE) = 0.2350469866319116\n",
      "Raíz del Error Cuadrático Medio (RMSE) = 0.4848164463298575\n"
     ]
    }
   ],
   "source": [
    "#dict_lineas_gt\n",
    "#dict_lineas_pred\n",
    "\n",
    "# importamos el cálculo del error cuadrático medio (MSE)\n",
    "from sklearn.metrics import mean_squared_error\n",
    "\n",
    "profundidad=[]\n",
    "for key_gt in dict_lineas_gt:\n",
    "    print(key_gt)\n",
    "    if key_gt!=12:\n",
    "        real_val=np.array(dict_lineas_gt[key_gt][\"pos_x\"])\n",
    "        if key_gt==6:\n",
    "            key_gt=3\n",
    "        elif key_gt==3:\n",
    "            key_gt=4\n",
    "        pixl_val=np.array(dict_lineas_pred[key_gt][\"pos_x2\"])\n",
    "        \n",
    "        print(len(real_val),len(pixl_val))\n",
    "        # Predecimos los valores y para los datos usados en el entrenamiento\n",
    "     \n",
    "        # Calculamos el Error Cuadrático Medio (MSE = Mean Squared Error)\n",
    "        mse = mean_squared_error(y_true = real_val, y_pred = pixl_val)\n",
    "        # La raíz cuadrada del MSE es el RMSE\n",
    "        rmse = np.sqrt(mse)\n",
    "        print('Error Cuadrático Medio (MSE) = ' + str(mse))\n",
    "        print('Raíz del Error Cuadrático Medio (RMSE) = ' + str(rmse))\n",
    "        profundidad.append([real_val,pixl_val])"
   ]
  },
  {
   "cell_type": "code",
   "execution_count": 42,
   "id": "8a3a37ff",
   "metadata": {},
   "outputs": [
    {
     "name": "stdout",
     "output_type": "stream",
     "text": [
      "1.0\n",
      "Error Cuadrático Medio (MSE) = 0.2350469866319116\n",
      "Raíz del Error Cuadrático Medio (RMSE) = 0.4848164463298575\n",
      "2.0\n",
      "Error Cuadrático Medio (MSE) = 0.2350469866319116\n",
      "Raíz del Error Cuadrático Medio (RMSE) = 0.4848164463298575\n",
      "3.0\n",
      "Error Cuadrático Medio (MSE) = 0.2350469866319116\n",
      "Raíz del Error Cuadrático Medio (RMSE) = 0.4848164463298575\n",
      "6.0\n",
      "Error Cuadrático Medio (MSE) = 0.2350469866319116\n",
      "Raíz del Error Cuadrático Medio (RMSE) = 0.4848164463298575\n"
     ]
    },
    {
     "data": {
      "image/png": "[encoded data removed]",
      "text/plain": [
       "<Figure size 432x288 with 1 Axes>"
      ]
     },
     "metadata": {
      "needs_background": "light"
     },
     "output_type": "display_data"
    },
    {
     "data": {
      "image/png": "[encoded data removed]",
      "text/plain": [
       "<Figure size 432x288 with 1 Axes>"
      ]
     },
     "metadata": {
      "needs_background": "light"
     },
     "output_type": "display_data"
    },
    {
     "data": {
      "image/png": "[encoded data removed]",
      "text/plain": [
       "<Figure size 432x288 with 1 Axes>"
      ]
     },
     "metadata": {
      "needs_background": "light"
     },
     "output_type": "display_data"
    },
    {
     "data": {
      "image/png": "[encoded data removed]",
      "text/plain": [
       "<Figure size 432x288 with 1 Axes>"
      ]
     },
     "metadata": {
      "needs_background": "light"
     },
     "output_type": "display_data"
    }
   ],
   "source": [
    "profundidad=[]\n",
    "for key_gt in dict_lineas_gt:\n",
    "    print(key_gt)\n",
    "    if key_gt!=12:\n",
    "        real_valx=np.array(dict_lineas_gt[key_gt][\"pos_x\"])\n",
    "        real_valy=np.array(dict_lineas_gt[key_gt][\"pos_y\"])+8*0.4\n",
    "        if key_gt==6:\n",
    "            key_gt=3\n",
    "        elif key_gt==3:\n",
    "            key_gt=4\n",
    "        \n",
    "        pixl_valy=np.array(dict_lineas_pred[key_gt][\"pos_y\"])\n",
    "        pixl_valx=np.array(dict_lineas_pred[key_gt][\"pos_x2\"])\n",
    "        \n",
    "        pixl_valx2=np.array(dict_lineas_pred[key_gt][\"pos_x\"])\n",
    "        \n",
    "        \n",
    "        plt.figure()\n",
    "        plt.scatter(real_valx,real_valy,label='real', color='red')\n",
    "        plt.scatter(pixl_valx2,pixl_valy,label='prediction1', color='green')\n",
    "        plt.scatter(pixl_valx,pixl_valy,label='prediction2', color='blue')\n",
    "        plt.legend()\n",
    "        plt.title('pos per '+str(key_gt))\n",
    "\n",
    "        # Predecimos los valores y para los datos usados en el entrenamiento\n",
    "     \n",
    "        # Calculamos el Error Cuadrático Medio (MSE = Mean Squared Error)\n",
    "        mse = mean_squared_error(y_true = real_val, y_pred = pixl_val)\n",
    "        # La raíz cuadrada del MSE es el RMSE\n",
    "        rmse = np.sqrt(mse)\n",
    "        print('Error Cuadrático Medio (MSE) = ' + str(mse))\n",
    "        print('Raíz del Error Cuadrático Medio (RMSE) = ' + str(rmse))\n",
    "        profundidad.append([real_val,pixl_val])"
   ]
  },
  {
   "cell_type": "code",
   "execution_count": null,
   "id": "a0fe05b6",
   "metadata": {},
   "outputs": [],
   "source": []
  },
  {
   "cell_type": "code",
   "execution_count": null,
   "id": "9a536c18",
   "metadata": {},
   "outputs": [],
   "source": []
  }
 ],
 "metadata": {
  "kernelspec": {
   "display_name": "Python 3 (ipykernel)",
   "language": "python",
   "name": "python3"
  },
  "language_info": {
   "codemirror_mode": {
    "name": "ipython",
    "version": 3
   },
   "file_extension": ".py",
   "mimetype": "text/x-python",
   "name": "python",
   "nbconvert_exporter": "python",
   "pygments_lexer": "ipython3",
   "version": "3.8.10"
  }
 },
 "nbformat": 4,
 "nbformat_minor": 5
}
